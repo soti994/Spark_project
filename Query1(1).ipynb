{
 "cells": [
  {
   "cell_type": "code",
   "execution_count": 1,
   "metadata": {
    "scrolled": false
   },
   "outputs": [
    {
     "name": "stdout",
     "output_type": "stream",
     "text": [
      "+----------+------+------+------+------+-------+-------+-----+\n",
      "|      Date|  Open|  High|   Low| Close| Volume|OpenInt|Label|\n",
      "+----------+------+------+------+------+-------+-------+-----+\n",
      "|2005-01-03| 32.31| 32.31|31.527|31.616|1027044|      0|    0|\n",
      "|2005-01-04|31.527|31.616| 31.22|31.338|1927762|      0|    0|\n",
      "|2005-01-05|30.971|31.051|30.714|30.843| 943399|      0|    0|\n",
      "|2005-01-06|30.843|31.398|30.764| 31.26| 662398|      0|    0|\n",
      "|2005-01-07| 31.26| 31.26|30.456|30.566|1087886|      0|    0|\n",
      "|2005-01-10|30.506| 31.23|30.486|30.863| 896381|      0|    0|\n",
      "|2005-01-11|30.843|30.903|30.199|30.377| 835841|      0|    0|\n",
      "|2005-01-12|30.456|30.466|29.872| 30.07|1476041|      0|    0|\n",
      "|2005-01-13| 30.07|30.605|29.882|30.129| 772578|      0|    0|\n",
      "|2005-01-14|30.189|30.337| 30.07|30.239| 453538|      0|    0|\n",
      "|2005-01-18| 30.09|30.724|29.862|30.496| 592979|      0|    0|\n",
      "|2005-01-19|30.506|30.605|29.852| 30.08| 694685|      0|    0|\n",
      "|2005-01-20| 30.06|30.407| 30.05|  30.1| 858644|      0|    0|\n",
      "|2005-01-21|30.129|30.307|29.584|29.723|1040463|      0|    0|\n",
      "|2005-01-24|29.763|29.931|29.287|29.346| 920193|      0|    0|\n",
      "|2005-01-25|29.465|29.644|29.188|29.287| 555647|      0|    0|\n",
      "|2005-01-26|29.326|29.495|29.168|29.336| 874385|      0|    0|\n",
      "|2005-01-27|29.217|29.733|  29.0|29.653| 636871|      0|    0|\n",
      "|2005-01-28|29.614|29.921|29.198|29.644| 771367|      0|    0|\n",
      "|2005-01-31|29.872|30.149|29.317|29.564| 884878|      0|    0|\n",
      "+----------+------+------+------+------+-------+-------+-----+\n",
      "only showing top 20 rows\n",
      "\n",
      "root\n",
      " |-- Date: date (nullable = true)\n",
      " |-- Open: float (nullable = true)\n",
      " |-- High: float (nullable = true)\n",
      " |-- Low: float (nullable = true)\n",
      " |-- Close: float (nullable = true)\n",
      " |-- Volume: integer (nullable = true)\n",
      " |-- OpenInt: integer (nullable = true)\n",
      " |-- Label: integer (nullable = true)\n",
      "\n"
     ]
    }
   ],
   "source": [
    "from pyspark.sql.types import *\n",
    "\n",
    "#Domi twn metavlitwn sto kathe arxeio\n",
    "\n",
    "schema = StructType([\n",
    "    StructField(\"Date\", DateType()),\n",
    "    StructField(\"Open\", FloatType()),\n",
    "    StructField(\"High\", FloatType()),\n",
    "    StructField(\"Low\", FloatType()),\n",
    "    StructField(\"Close\", FloatType()),\n",
    "    StructField(\"Volume\", IntegerType()),\n",
    "    StructField(\"OpenInt\", IntegerType())\n",
    "])\n",
    "\n",
    "\n",
    "# Diavazoume ta 3 arxeia \n",
    "# Label \"0\" : Metoxi \"agn\"\n",
    "# Label \"1\" : Metoxi \"ainv\"\n",
    "# Label \"2\" : Metoxi \"ale\"\n",
    "\n",
    "df1 = spark.read.csv(['agn.us.txt'], header=True, schema=schema)\n",
    "df1 = df1.select('*', (df1.OpenInt + 0).alias('Label'))\n",
    "\n",
    "df2 = spark.read.csv(['ainv.us.txt'], header=True, schema=schema)\n",
    "df2 = df2.select('*', (df2.OpenInt + 1).alias('Label'))\n",
    "\n",
    "df3 = spark.read.csv(['ale.us.txt'], header=True, schema=schema)\n",
    "df3 = df3.select('*', (df3.OpenInt + 2).alias('Label'))\n",
    "\n",
    "#Sunenwsi twn 3 dataframes\n",
    "\n",
    "df = df1.union(df2).union(df3)\n",
    "\n",
    "df.show()\n",
    "df.printSchema()"
   ]
  },
  {
   "cell_type": "code",
   "execution_count": 2,
   "metadata": {
    "scrolled": false
   },
   "outputs": [
    {
     "name": "stdout",
     "output_type": "stream",
     "text": [
      "O mesos oros stis times anoigmatos, kleisimatos kai ogkou sunallagwn gia kathe imerologiako mina gia kathe metoxi einai:\n",
      "\n",
      "+-----+-----+--------+---------+----------+\n",
      "|Label|month|Open Avg|Close Avg|Volume Avg|\n",
      "+-----+-----+--------+---------+----------+\n",
      "|    0|    1|  101.83|    101.8| 1796786.0|\n",
      "|    0|    2|  106.11|   106.37|2018339.11|\n",
      "|    0|    3|  108.97|   108.92|1954400.08|\n",
      "|    0|    4|  104.97|   104.86|2048475.32|\n",
      "|    0|    5|  106.59|   106.52|2020206.47|\n",
      "|    0|    6|  110.06|   110.13|1611504.93|\n",
      "|    0|    7|  113.99|   114.05|1486405.29|\n",
      "|    0|    8|  112.94|   112.76|1592136.87|\n",
      "|    0|    9|  113.43|   113.29| 1720100.3|\n",
      "|    0|   10|  109.94|   109.84| 2045412.4|\n",
      "|    0|   11|  105.94|   105.72|2363413.68|\n",
      "|    0|   12|  107.03|   107.07|1565874.46|\n",
      "|    1|    1|    5.96|     5.96| 2664324.3|\n",
      "|    1|    2|    5.91|     5.91|3277507.88|\n",
      "|    1|    3|    6.04|     6.04|3266939.43|\n",
      "|    1|    4|    6.21|     6.21| 2431237.6|\n",
      "|    1|    5|    6.25|     6.25|2611925.72|\n",
      "|    1|    6|    6.23|     6.22| 2798179.4|\n",
      "|    1|    7|    6.11|     6.12| 2189656.0|\n",
      "|    1|    8|    6.28|     6.29|2754273.91|\n",
      "|    1|    9|    6.35|     6.35|2706609.69|\n",
      "|    1|   10|    6.21|      6.2|2141400.12|\n",
      "|    1|   11|    6.11|      6.1|2523151.99|\n",
      "|    1|   12|    5.93|     5.92|2916861.64|\n",
      "|    2|    1|    37.6|    37.63| 223401.15|\n",
      "|    2|    2|   38.36|    38.35| 240881.88|\n",
      "|    2|    3|   38.04|    38.07| 253724.56|\n",
      "|    2|    4|   38.59|    38.61| 240209.06|\n",
      "|    2|    5|   39.38|    39.38| 244737.15|\n",
      "|    2|    6|   39.89|    39.92| 257443.88|\n",
      "|    2|    7|   40.27|    40.26|  209357.9|\n",
      "|    2|    8|   40.11|    40.09| 245987.44|\n",
      "|    2|    9|   39.87|    39.86| 226992.71|\n",
      "|    2|   10|   40.07|    40.06| 235927.18|\n",
      "|    2|   11|   38.16|    38.13| 225893.26|\n",
      "|    2|   12|   37.39|    37.41|  234291.2|\n",
      "+-----+-----+--------+---------+----------+\n",
      "\n"
     ]
    }
   ],
   "source": [
    "from pyspark.sql.functions import *\n",
    "import datetime\n",
    "\n",
    "print (\"O mesos oros stis times anoigmatos, kleisimatos kai \\\n",
    "       ogkou sunallagwn gia kathe imerologiako mina gia kathe metoxi einai:\\n\")\n",
    "\n",
    "df_final = df.groupBy(\"Label\", month(\"Date\").alias(\"month\")). \\\n",
    "        agg(round(mean(\"Open\"), 2).alias(\"Open Avg\"), \\\n",
    "        round(mean(\"Close\"), 2).alias(\"Close Avg\"), \\\n",
    "        round(mean(\"Volume\"), 2).alias(\"Volume Avg\")). \\\n",
    "        orderBy(\"Label\", \"month\", ascending= True).show(40)"
   ]
  },
  {
   "cell_type": "code",
   "execution_count": 3,
   "metadata": {},
   "outputs": [],
   "source": [
    "df.write.csv('dataframe.csv', header = 'true')\n",
    "#df.write.csv('dataframe.csv', header = 'true')"
   ]
  }
 ],
 "metadata": {
  "kernelspec": {
   "display_name": "Python 3",
   "language": "python",
   "name": "python3"
  },
  "language_info": {
   "codemirror_mode": {
    "name": "ipython",
    "version": 3
   },
   "file_extension": ".py",
   "mimetype": "text/x-python",
   "name": "python",
   "nbconvert_exporter": "python",
   "pygments_lexer": "ipython3",
   "version": "3.7.4"
  }
 },
 "nbformat": 4,
 "nbformat_minor": 2
}
