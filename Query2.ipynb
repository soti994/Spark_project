{
 "cells": [
  {
   "cell_type": "code",
   "execution_count": 1,
   "metadata": {
    "scrolled": true
   },
   "outputs": [],
   "source": [
    "from pyspark.sql.types import *\n",
    "\n",
    "schema = StructType([\n",
    "    StructField(\"Date\", DateType()),\n",
    "    StructField(\"Open\", FloatType()),\n",
    "    StructField(\"High\", FloatType()),\n",
    "    StructField(\"Low\", FloatType()),\n",
    "    StructField(\"Close\", FloatType()),\n",
    "    StructField(\"Volume\", IntegerType()),\n",
    "    StructField(\"OpenInt\", IntegerType()),\n",
    "    StructField(\"Label\", IntegerType())\n",
    "])\n",
    "\n",
    "df = spark.read.csv('dataframe.csv', header=True, schema=schema)"
   ]
  },
  {
   "cell_type": "code",
   "execution_count": 2,
   "metadata": {},
   "outputs": [
    {
     "name": "stdout",
     "output_type": "stream",
     "text": [
      "Gia kathe metoxi i timi anoigmatos itan panw apo 35 dolaria gia ton akoloutho aritho imerwn:\n",
      "\n",
      "+-----+---------+\n",
      "|Label|Open > 35|\n",
      "+-----+---------+\n",
      "|    0|     2071|\n",
      "|    1|        0|\n",
      "|    2|     1667|\n",
      "+-----+---------+\n",
      "\n"
     ]
    }
   ],
   "source": [
    "from pyspark.sql.functions import *\n",
    "\n",
    "print (\"Gia kathe metoxi i timi anoigmatos itan panw apo 35 dolaria \\\n",
    "        gia ton akoloutho aritho imerwn:\\n\")\n",
    "\n",
    "df_final2 = df.groupBy(\"Label\").agg(count(when(col(\"Open\") > 35, True)).alias(\"Open > 35\")). \\\n",
    "    orderBy(\"Label\", ascending= True).show()"
   ]
  }
 ],
 "metadata": {
  "kernelspec": {
   "display_name": "Python 3",
   "language": "python",
   "name": "python3"
  },
  "language_info": {
   "codemirror_mode": {
    "name": "ipython",
    "version": 3
   },
   "file_extension": ".py",
   "mimetype": "text/x-python",
   "name": "python",
   "nbconvert_exporter": "python",
   "pygments_lexer": "ipython3",
   "version": "3.7.4"
  }
 },
 "nbformat": 4,
 "nbformat_minor": 2
}
