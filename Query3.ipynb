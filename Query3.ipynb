{
 "cells": [
  {
   "cell_type": "code",
   "execution_count": 1,
   "metadata": {},
   "outputs": [],
   "source": [
    "from pyspark.sql.types import *\n",
    "\n",
    "schema = StructType([\n",
    "    StructField(\"Date\", DateType()),\n",
    "    StructField(\"Open\", FloatType()),\n",
    "    StructField(\"High\", FloatType()),\n",
    "    StructField(\"Low\", FloatType()),\n",
    "    StructField(\"Close\", FloatType()),\n",
    "    StructField(\"Volume\", IntegerType()),\n",
    "    StructField(\"OpenInt\", IntegerType()),\n",
    "    StructField(\"Label\", IntegerType())\n",
    "])\n",
    "df = spark.read.csv('dataframe.csv', header=True, schema=schema)"
   ]
  },
  {
   "cell_type": "code",
   "execution_count": 2,
   "metadata": {},
   "outputs": [
    {
     "name": "stdout",
     "output_type": "stream",
     "text": [
      "Oi 5 meres me tin upsiloteri timi anoigmatos gia kathe metoxi itan:\n",
      "\n",
      "+-----+----+----------+------+\n",
      "|Label|Rank|      Date|  Open|\n",
      "+-----+----+----------+------+\n",
      "|    0|   1|2015-07-30|334.08|\n",
      "|    0|   2|2015-08-06|334.01|\n",
      "|    0|   3|2015-07-29|332.22|\n",
      "|    0|   4|2015-08-04|331.64|\n",
      "|    0|   5|2015-08-05|331.54|\n",
      "|    1|   1|2007-02-20|11.474|\n",
      "|    1|   2|2007-02-21|11.426|\n",
      "|    1|   3|2007-06-18|11.422|\n",
      "|    1|   4|2007-06-04|11.385|\n",
      "|    1|   5|2007-06-05|11.349|\n",
      "|    1|   5|2007-06-20|11.349|\n",
      "|    2|   1|2017-11-01|  80.0|\n",
      "|    2|   2|2017-10-30| 79.49|\n",
      "|    2|   3|2017-10-26| 79.29|\n",
      "|    2|   4|2017-10-23| 79.22|\n",
      "|    2|   5|2017-10-12| 79.17|\n",
      "+-----+----+----------+------+\n",
      "\n"
     ]
    }
   ],
   "source": [
    "from pyspark.sql.functions import *\n",
    "from pyspark.sql.window import Window\n",
    "\n",
    "print (\"Oi 5 meres me tin upsiloteri timi anoigmatos gia kathe metoxi itan:\\n\")\n",
    "\n",
    "#partition twd dedomenwn ana metoxi kai taksinomisi me fthinousa timi anoigmatos\n",
    "\n",
    "window1 = Window.partitionBy(df['Label']).orderBy(df['Open'].desc())\n",
    "\n",
    "\n",
    "# emfanisi twn 5 upsiloterwn imerwn sto anoigma katatassontas apo ti megaluteri pros ti mikroteri timi\n",
    "\n",
    "df_final31 =df.select('Label', rank().over(window1).alias('Rank'), 'Date', 'Open') \\\n",
    "  .filter(col('Rank') <= 5).orderBy(\"Label\", 'rank', ascending= True).show() "
   ]
  },
  {
   "cell_type": "code",
   "execution_count": 3,
   "metadata": {},
   "outputs": [
    {
     "name": "stdout",
     "output_type": "stream",
     "text": [
      "Oi 5 meres me tin upsiloteri timi ston ogko sunallagwn gia kathe metoxi itan:\n",
      "\n",
      "+-----+----+----------+--------+\n",
      "|Label|rank|      Date|  Volume|\n",
      "+-----+----+----------+--------+\n",
      "|    0|   1|2016-04-05|36807460|\n",
      "|    0|   2|2016-04-06|21190819|\n",
      "|    0|   3|2015-10-29|19508278|\n",
      "|    0|   4|2014-11-17|16847866|\n",
      "|    0|   5|2015-11-23|16048275|\n",
      "|    1|   1|2014-02-28|57522365|\n",
      "|    1|   2|2014-06-27|46257876|\n",
      "|    1|   3|2014-02-25|40378780|\n",
      "|    1|   4|2013-05-15|39436232|\n",
      "|    1|   5|2010-04-28|38571093|\n",
      "|    2|   1|2014-02-27| 2118295|\n",
      "|    2|   2|2005-06-24| 1558017|\n",
      "|    2|   3|2007-07-27| 1403041|\n",
      "|    2|   4|2007-08-10| 1242513|\n",
      "|    2|   5|2005-08-15| 1135360|\n",
      "+-----+----+----------+--------+\n",
      "\n"
     ]
    }
   ],
   "source": [
    "print (\"Oi 5 meres me tin upsiloteri timi ston ogko sunallagwn gia kathe metoxi itan:\\n\")\n",
    "\n",
    "window2 = Window.partitionBy(df['Label']).orderBy(df['Volume'].desc())\n",
    "\n",
    "df_final31 =df.select('Label', rank().over(window2).alias('rank'), 'Date', 'Volume') \\\n",
    "  .filter(col('rank') <= 5).orderBy(\"Label\", 'rank', ascending= True).show()  "
   ]
  }
 ],
 "metadata": {
  "kernelspec": {
   "display_name": "Python 3",
   "language": "python",
   "name": "python3"
  },
  "language_info": {
   "codemirror_mode": {
    "name": "ipython",
    "version": 3
   },
   "file_extension": ".py",
   "mimetype": "text/x-python",
   "name": "python",
   "nbconvert_exporter": "python",
   "pygments_lexer": "ipython3",
   "version": "3.7.4"
  }
 },
 "nbformat": 4,
 "nbformat_minor": 2
}
