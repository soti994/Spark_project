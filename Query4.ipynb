{
 "cells": [
  {
   "cell_type": "code",
   "execution_count": 1,
   "metadata": {},
   "outputs": [],
   "source": [
    "from pyspark.sql.types import *\n",
    "\n",
    "schema = StructType([\n",
    "    StructField(\"Date\", DateType()),\n",
    "    StructField(\"Open\", FloatType()),\n",
    "    StructField(\"High\", FloatType()),\n",
    "    StructField(\"Low\", FloatType()),\n",
    "    StructField(\"Close\", FloatType()),\n",
    "    StructField(\"Volume\", IntegerType()),\n",
    "    StructField(\"OpenInt\", IntegerType()),\n",
    "    StructField(\"Label\", IntegerType())\n",
    "])\n",
    "df = spark.read.csv('dataframe.csv', header=True, schema=schema)"
   ]
  },
  {
   "cell_type": "code",
   "execution_count": 2,
   "metadata": {},
   "outputs": [
    {
     "name": "stdout",
     "output_type": "stream",
     "text": [
      "H xronia me tin upsiloteri timi sto anoigma gia kathe metoxi einai:\n",
      "\n",
      "+-----+----+----+------+\n",
      "|Label|Rank|year|  Open|\n",
      "+-----+----+----+------+\n",
      "|    0|   1|2015|334.08|\n",
      "|    1|   1|2007|11.474|\n",
      "|    2|   1|2017|  80.0|\n",
      "+-----+----+----+------+\n",
      "\n"
     ]
    }
   ],
   "source": [
    "from pyspark.sql.functions import *\n",
    "from pyspark.sql.window import Window\n",
    "import datetime\n",
    "\n",
    "window1 = Window.partitionBy(df['Label']).orderBy(df['Open'].desc())\n",
    "\n",
    "print (\"H xronia me tin upsiloteri timi sto anoigma gia kathe metoxi einai:\\n\")\n",
    "\n",
    "df_final41 = df.select( 'Label', rank().over(window1).alias('Rank'), year(\"Date\").alias(\"year\"), 'Open') \\\n",
    "  .filter(col('Rank') <= 1).orderBy(\"Label\", 'Rank', ascending= True).show() "
   ]
  },
  {
   "cell_type": "code",
   "execution_count": 3,
   "metadata": {},
   "outputs": [
    {
     "name": "stdout",
     "output_type": "stream",
     "text": [
      "H xronia me tin xamiloteri timi sto kleisimo gia kathe metoxi einai:\n",
      "\n",
      "+-----+----+----+------+\n",
      "|Label|Rank|year| Close|\n",
      "+-----+----+----+------+\n",
      "|    0|   1|2008|20.575|\n",
      "|    1|   1|2009|0.9797|\n",
      "|    2|   1|2009| 18.29|\n",
      "+-----+----+----+------+\n",
      "\n"
     ]
    }
   ],
   "source": [
    "window2 = Window.partitionBy(df['Label']).orderBy(df['Close'].asc())\n",
    "\n",
    "print (\"H xronia me tin xamiloteri timi sto kleisimo gia kathe metoxi einai:\\n\")\n",
    "\n",
    "df_final42 = df.select( 'Label', rank().over(window2).alias('Rank'), year(\"Date\").alias(\"year\"), 'Close',) \\\n",
    "  .filter(col('Rank') <= 1).orderBy(\"Label\", 'Rank', ascending= True).show()  "
   ]
  }
 ],
 "metadata": {
  "kernelspec": {
   "display_name": "Python 3",
   "language": "python",
   "name": "python3"
  },
  "language_info": {
   "codemirror_mode": {
    "name": "ipython",
    "version": 3
   },
   "file_extension": ".py",
   "mimetype": "text/x-python",
   "name": "python",
   "nbconvert_exporter": "python",
   "pygments_lexer": "ipython3",
   "version": "3.7.4"
  }
 },
 "nbformat": 4,
 "nbformat_minor": 2
}
